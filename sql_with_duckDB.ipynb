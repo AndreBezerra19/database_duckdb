{
 "cells": [
  {
   "cell_type": "code",
   "execution_count": 5,
   "metadata": {},
   "outputs": [],
   "source": [
    "import duckdb"
   ]
  },
  {
   "cell_type": "code",
   "execution_count": 6,
   "metadata": {},
   "outputs": [
    {
     "name": "stdout",
     "output_type": "stream",
     "text": [
      "Tabelas existentes no banco de dados:\n",
      "pokemon\n"
     ]
    }
   ],
   "source": [
    "# Conectar ao banco de dados\n",
    "conn = duckdb.connect(\"pokemon_data.duckdb\")\n",
    "\n",
    "# Listar as tabelas existentes\n",
    "tables = conn.execute(\"SHOW TABLES;\").fetchall()\n",
    "\n",
    "# Exibir as tabelas\n",
    "print(\"Tabelas existentes no banco de dados:\")\n",
    "for table in tables:\n",
    "    print(table[0])"
   ]
  },
  {
   "cell_type": "code",
   "execution_count": 7,
   "metadata": {},
   "outputs": [],
   "source": [
    "conn.close()"
   ]
  }
 ],
 "metadata": {
  "kernelspec": {
   "display_name": "venv",
   "language": "python",
   "name": "python3"
  },
  "language_info": {
   "codemirror_mode": {
    "name": "ipython",
    "version": 3
   },
   "file_extension": ".py",
   "mimetype": "text/x-python",
   "name": "python",
   "nbconvert_exporter": "python",
   "pygments_lexer": "ipython3",
   "version": "3.13.1"
  }
 },
 "nbformat": 4,
 "nbformat_minor": 2
}
